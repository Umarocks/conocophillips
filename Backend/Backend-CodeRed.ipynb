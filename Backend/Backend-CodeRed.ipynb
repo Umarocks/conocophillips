{
 "cells": [
  {
   "cell_type": "code",
   "execution_count": 6,
   "id": "c1bbab05",
   "metadata": {
    "scrolled": true
   },
   "outputs": [
    {
     "data": {
      "text/html": [
       "<div>\n",
       "<style scoped>\n",
       "    .dataframe tbody tr th:only-of-type {\n",
       "        vertical-align: middle;\n",
       "    }\n",
       "\n",
       "    .dataframe tbody tr th {\n",
       "        vertical-align: top;\n",
       "    }\n",
       "\n",
       "    .dataframe thead th {\n",
       "        text-align: right;\n",
       "    }\n",
       "</style>\n",
       "<table border=\"1\" class=\"dataframe\">\n",
       "  <thead>\n",
       "    <tr style=\"text-align: right;\">\n",
       "      <th></th>\n",
       "      <th>country</th>\n",
       "      <th>year</th>\n",
       "      <th>iso_code</th>\n",
       "      <th>population</th>\n",
       "      <th>gdp</th>\n",
       "      <th>biofuel_cons_change_pct</th>\n",
       "      <th>biofuel_cons_change_twh</th>\n",
       "      <th>biofuel_cons_per_capita</th>\n",
       "      <th>biofuel_consumption</th>\n",
       "      <th>biofuel_elec_per_capita</th>\n",
       "      <th>...</th>\n",
       "      <th>solar_share_elec</th>\n",
       "      <th>solar_share_energy</th>\n",
       "      <th>wind_cons_change_pct</th>\n",
       "      <th>wind_cons_change_twh</th>\n",
       "      <th>wind_consumption</th>\n",
       "      <th>wind_elec_per_capita</th>\n",
       "      <th>wind_electricity</th>\n",
       "      <th>wind_energy_per_capita</th>\n",
       "      <th>wind_share_elec</th>\n",
       "      <th>wind_share_energy</th>\n",
       "    </tr>\n",
       "  </thead>\n",
       "  <tbody>\n",
       "    <tr>\n",
       "      <th>20282</th>\n",
       "      <td>United States</td>\n",
       "      <td>2022</td>\n",
       "      <td>USA</td>\n",
       "      <td>338289856.0</td>\n",
       "      <td>NaN</td>\n",
       "      <td>4.335</td>\n",
       "      <td>18.026</td>\n",
       "      <td>1282.526</td>\n",
       "      <td>433.866</td>\n",
       "      <td>153.271</td>\n",
       "      <td>...</td>\n",
       "      <td>4.784</td>\n",
       "      <td>2.018</td>\n",
       "      <td>14.97</td>\n",
       "      <td>145.448</td>\n",
       "      <td>1145.063</td>\n",
       "      <td>1283.81</td>\n",
       "      <td>434.3</td>\n",
       "      <td>3384.858</td>\n",
       "      <td>10.131</td>\n",
       "      <td>4.298</td>\n",
       "    </tr>\n",
       "  </tbody>\n",
       "</table>\n",
       "<p>1 rows × 129 columns</p>\n",
       "</div>"
      ],
      "text/plain": [
       "             country  year iso_code   population  gdp  \\\n",
       "20282  United States  2022      USA  338289856.0  NaN   \n",
       "\n",
       "       biofuel_cons_change_pct  biofuel_cons_change_twh  \\\n",
       "20282                    4.335                   18.026   \n",
       "\n",
       "       biofuel_cons_per_capita  biofuel_consumption  biofuel_elec_per_capita  \\\n",
       "20282                 1282.526              433.866                  153.271   \n",
       "\n",
       "       ...  solar_share_elec  solar_share_energy  wind_cons_change_pct  \\\n",
       "20282  ...             4.784               2.018                 14.97   \n",
       "\n",
       "       wind_cons_change_twh  wind_consumption  wind_elec_per_capita  \\\n",
       "20282               145.448          1145.063               1283.81   \n",
       "\n",
       "       wind_electricity  wind_energy_per_capita  wind_share_elec  \\\n",
       "20282             434.3                3384.858           10.131   \n",
       "\n",
       "       wind_share_energy  \n",
       "20282              4.298  \n",
       "\n",
       "[1 rows x 129 columns]"
      ]
     },
     "execution_count": 6,
     "metadata": {},
     "output_type": "execute_result"
    }
   ],
   "source": [
    "import pandas as pd\n",
    "import json \n",
    "# Load the CSV file into a DataFrame\n",
    "df = pd.read_csv('./CSV/owid-energy-data.csv')\n",
    "numpy_array = df.to_numpy()\n",
    "# Specify the year and country you want to filter\n",
    "desired_year = 2022\n",
    "desired_country = 'USA'\n",
    "\n",
    "# Filter the DataFrame based on the specified year and country\n",
    "filtered_df = df[(df['year'] == desired_year) & (df['iso_code'] == desired_country)]\n",
    "\n",
    "# Display the filtered DataFrame\n",
    "filtered_df"
   ]
  },
  {
   "cell_type": "code",
   "execution_count": 27,
   "id": "c9b5c6d4",
   "metadata": {},
   "outputs": [
    {
     "data": {
      "text/plain": [
       "'[{\"country\":\"United States\",\"year\":2008,\"iso_code\":\"USA\",\"population\":305694912.0,\"gdp\":15319731011584.0,\"biofuel_cons_change_pct\":36.596,\"biofuel_cons_change_twh\":60.875,\"biofuel_cons_per_capita\":743.287,\"biofuel_consumption\":227.219,\"biofuel_elec_per_capita\":180.016,\"biofuel_electricity\":55.03,\"biofuel_share_elec\":1.34,\"biofuel_share_energy\":0.86,\"carbon_intensity_elec\":518.419,\"coal_cons_change_pct\":-1.591,\"coal_cons_change_twh\":-100.795,\"coal_cons_per_capita\":20389.789,\"coal_consumption\":6233.055,\"coal_elec_per_capita\":6496.02,\"coal_electricity\":1985.8,\"coal_prod_change_pct\":1.527,\"coal_prod_change_twh\":99.851,\"coal_prod_per_capita\":21723.098,\"coal_production\":6640.64,\"coal_share_elec\":48.345,\"coal_share_energy\":23.605,\"electricity_demand\":4140.35,\"electricity_generation\":4107.53,\"electricity_share_energy\":16.969,\"energy_cons_change_pct\":-2.432,\"energy_cons_change_twh\":-658.273,\"energy_per_capita\":86378.648,\"energy_per_gdp\":1.724,\"fossil_cons_change_pct\":-3.314,\"fossil_cons_change_twh\":-781.326,\"fossil_elec_per_capita\":9565.779,\"fossil_electricity\":2924.21,\"fossil_energy_per_capita\":74569.977,\"fossil_fuel_consumption\":22795.662,\"fossil_share_elec\":71.191,\"fossil_share_energy\":86.329,\"gas_cons_change_pct\":0.762,\"gas_cons_change_twh\":47.529,\"gas_consumption\":6288.912,\"gas_elec_per_capita\":2888.435,\"gas_electricity\":882.98,\"gas_energy_per_capita\":20572.512,\"gas_prod_change_pct\":4.633,\"gas_prod_change_twh\":241.786,\"gas_prod_per_capita\":17863.15,\"gas_production\":5460.674,\"gas_share_elec\":21.497,\"gas_share_energy\":23.817,\"greenhouse_gas_emissions\":2129.42,\"hydro_cons_change_pct\":3.296,\"hydro_cons_change_twh\":18.24,\"hydro_consumption\":705.476,\"hydro_elec_per_capita\":813.033,\"hydro_electricity\":248.54,\"hydro_energy_per_capita\":2307.778,\"hydro_share_elec\":6.051,\"hydro_share_energy\":2.672,\"low_carbon_cons_change_pct\":6.579,\"low_carbon_cons_change_twh\":123.055,\"low_carbon_consumption\":3609.854,\"low_carbon_elec_per_capita\":3870.918,\"low_carbon_electricity\":1183.32,\"low_carbon_energy_per_capita\":11808.681,\"low_carbon_share_elec\":28.809,\"low_carbon_share_energy\":13.671,\"net_elec_imports\":32.82,\"net_elec_imports_share_demand\":0.793,\"nuclear_cons_change_pct\":-0.027,\"nuclear_cons_change_twh\":-14.92,\"nuclear_consumption\":2288.376,\"nuclear_elec_per_capita\":2637.303,\"nuclear_electricity\":806.21,\"nuclear_energy_per_capita\":7485.817,\"nuclear_share_elec\":19.628,\"nuclear_share_energy\":8.666,\"oil_cons_change_pct\":-6.618,\"oil_cons_change_twh\":-728.061,\"oil_consumption\":10273.694,\"oil_elec_per_capita\":181.325,\"oil_electricity\":55.43,\"oil_energy_per_capita\":33607.672,\"oil_prod_change_pct\":-0.903,\"oil_prod_change_twh\":-32.033,\"oil_prod_per_capita\":11497.881,\"oil_production\":3514.844,\"oil_share_elec\":1.349,\"oil_share_energy\":38.907,\"other_renewable_consumption\":227.048,\"other_renewable_electricity\":72.35,\"other_renewable_exc_biofuel_electricity\":17.32,\"other_renewables_cons_change_pct\":-0.431,\"other_renewables_cons_change_twh\":-1.381,\"other_renewables_elec_per_capita\":236.674,\"other_renewables_elec_per_capita_exc_biofuel\":56.658,\"other_renewables_energy_per_capita\":742.728,\"other_renewables_share_elec\":1.761,\"other_renewables_share_elec_exc_biofuel\":0.422,\"other_renewables_share_energy\":0.86,\"per_capita_electricity\":13436.697,\"primary_energy_consumption\":26405.514,\"renewables_cons_change_pct\":17.38,\"renewables_cons_change_twh\":137.975,\"renewables_consumption\":1321.477,\"renewables_elec_per_capita\":1233.615,\"renewables_electricity\":377.11,\"renewables_energy_per_capita\":4322.863,\"renewables_share_elec\":9.181,\"renewables_share_energy\":5.005,\"solar_cons_change_pct\":49.082,\"solar_cons_change_twh\":1.492,\"solar_consumption\":4.589,\"solar_elec_per_capita\":2.813,\"solar_electricity\":0.86,\"solar_energy_per_capita\":15.012,\"solar_share_elec\":0.021,\"solar_share_energy\":0.017,\"wind_cons_change_pct\":60.706,\"wind_cons_change_twh\":58.75,\"wind_consumption\":157.145,\"wind_elec_per_capita\":181.096,\"wind_electricity\":55.36,\"wind_energy_per_capita\":514.058,\"wind_share_elec\":1.348,\"wind_share_energy\":0.595}]'"
      ]
     },
     "execution_count": 27,
     "metadata": {},
     "output_type": "execute_result"
    }
   ],
   "source": [
    "filtered_df_list = filtered_df.to_json(orient='records')\n",
    "\n",
    "filtered_df_list"
   ]
  }
 ],
 "metadata": {
  "kernelspec": {
   "display_name": "Python 3 (ipykernel)",
   "language": "python",
   "name": "python3"
  },
  "language_info": {
   "codemirror_mode": {
    "name": "ipython",
    "version": 3
   },
   "file_extension": ".py",
   "mimetype": "text/x-python",
   "name": "python",
   "nbconvert_exporter": "python",
   "pygments_lexer": "ipython3",
   "version": "3.10.12"
  }
 },
 "nbformat": 4,
 "nbformat_minor": 5
}
